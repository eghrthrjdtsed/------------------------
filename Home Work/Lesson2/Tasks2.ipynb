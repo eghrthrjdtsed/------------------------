{
 "cells": [
  {
   "cell_type": "markdown",
   "metadata": {},
   "source": [
    "<span style=\"color:red\"><font size = 6>**Урок 2.** А/Б тестирование</span>\n",
    "\n",
    "<span style=\"color:#59afe1\"><font size = 5>*__Задание 1__ Сделайте приоритезацию гипотез из предыдущего урока с помощью ICE*.</span>"
   ]
  },
  {
   "cell_type": "markdown",
   "metadata": {},
   "source": [
    "1. Вкладка __стать продавцом__ можно сделать побольше и _выделить зеленым цветом_, это бы способствовало увеличению количества новых продавцов на нашей площадке, что увеличило бы нашу прибыль на **12-17%**<br> \n",
    "<span style=\"color:red\"><font size = 4>IxCxE(5x8x5) ICE Score(200)</span>\n",
    "\n",
    "2. __Убрать рекламу старонних площадок__ с _первого экрана_(они отвлекают внимания от самих себя) и добавить рекламу товаров с __большой морженальностью__, что позволит нам увеличить прибыль в среднем на **15-20%.**<br> \n",
    "<span style=\"color:red\"><font size = 4>IxCxE(7x6x7) ICE Score(294)</span>\n",
    "\n",
    "3. Вкладки __второго порядка__ сделать более _красочными и детализированными_, что позволит нам увеличить прибыль на **10%**<br>\n",
    "<span style=\"color:red\"><font size = 4>IxCxE(3x8x8) ICE Score(192)</span>\n",
    "\n",
    "4. __Скрол__ сделать более _плавным_, это позволит нам __дольше удерживать__ пользователей на сайте, что также повысит дополнительно прибыль на **7%**<br> \n",
    "<span style=\"color:red\"><font size = 4>IxCxE(5x9x5) ICE Score(225)</span>\n",
    "\n",
    "5. Перенести кнопку __для слабовидящих__ с _нижнего экрана на верхний_, что позволит пользователям сразу приступить к просмотру товаров и повысит их лояльность тем самым увеличит средний чек пользователя примерно на **25%.**<br>\n",
    "<span style=\"color:red\"><font size = 4>IxCxE(7x8x7) ICE Score(392)</span>"
   ]
  },
  {
   "cell_type": "markdown",
   "metadata": {},
   "source": [
    "<span style=\"color:#59afe1\"><font size = 5>*__Задание 2.__ cоставьте шаблон дизайна эксперимента для гипотезы, которая набрала больше всего баллов в практическом задании предыдущего урока.*</span>"
   ]
  },
  {
   "cell_type": "markdown",
   "metadata": {},
   "source": [
    "<span style=\"color:red\"><font size = 4>__Гипотеза:__</span> позволит пользователям сразу приступить к просмотру товаров, что повысит их лояльность и тем самым увеличит средний чек пользователя примерно на **25%.**<br>\n",
    "\n",
    "<span style=\"color:red\"><font size = 4>__Что делаем:__</span> Перенести кнопку для слабовидящих с нижнего экрана на верхний.<br>\n",
    "\n",
    "<span style=\"color:red\"><font size = 4>__На каких пользователях тестируем:__</span> Постоянные пользователи с низким зрением.<br>\n",
    "\n",
    "<span style=\"color:red\"><font size = 4>__Метрики:__</span> Смотрим средний чек пользователя."
   ]
  }
 ],
 "metadata": {
  "kernelspec": {
   "display_name": "Python 3.11.2 64-bit",
   "language": "python",
   "name": "python3"
  },
  "language_info": {
   "codemirror_mode": {
    "name": "ipython",
    "version": 3
   },
   "file_extension": ".py",
   "mimetype": "text/x-python",
   "name": "python",
   "nbconvert_exporter": "python",
   "pygments_lexer": "ipython3",
   "version": "3.11.2"
  },
  "orig_nbformat": 4,
  "vscode": {
   "interpreter": {
    "hash": "1c629eccfdf8545529de563785dace1040dd62c38aa3fb6e09c82c51165828e0"
   }
  }
 },
 "nbformat": 4,
 "nbformat_minor": 2
}
